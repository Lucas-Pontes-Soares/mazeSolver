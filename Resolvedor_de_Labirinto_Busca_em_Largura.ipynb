{
  "nbformat": 4,
  "nbformat_minor": 0,
  "metadata": {
    "colab": {
      "provenance": []
    },
    "kernelspec": {
      "name": "python3",
      "display_name": "Python 3"
    },
    "language_info": {
      "name": "python"
    }
  },
  "cells": [
    {
      "cell_type": "markdown",
      "source": [
        "#   Resolução de Labirinto com Busca em Largura\n",
        "\n",
        "Integrantes do Projeto:\n",
        "*   Daniela Campos Rodrigues\n",
        "*   Lucas Pontes Soares\n",
        "*   Pedro Ramos de Lima\n",
        "\n"
      ],
      "metadata": {
        "id": "zV78I6ebW7jQ"
      }
    },
    {
      "cell_type": "markdown",
      "source": [
        "## 1. Importações"
      ],
      "metadata": {
        "id": "0ZAGwXZAX-_c"
      }
    },
    {
      "cell_type": "code",
      "source": [
        "import random                             # importacao para gerar numeros aleatorios\n",
        "from collections import deque             # importacao para fazer uma fila\n",
        "from IPython.display import clear_output  # importacao para dar clear no console\n",
        "import time                               # importacao para dar delay\n",
        "\n",
        "VERDE = '\\033[32m'  # Cor verde - caminho final\n",
        "RESET = '\\033[39m'  # Resetar para a cor padrão\n",
        "\n",
        "print(\"Importações Concluidas!\")"
      ],
      "metadata": {
        "colab": {
          "base_uri": "https://localhost:8080/"
        },
        "id": "7cwd5NdAX_UL",
        "outputId": "d4bdd791-7808-44d0-8e2f-6096a99c18a5"
      },
      "execution_count": null,
      "outputs": [
        {
          "output_type": "stream",
          "name": "stdout",
          "text": [
            "Importações Concluidas!\n"
          ]
        }
      ]
    },
    {
      "cell_type": "markdown",
      "source": [
        "## 2. Criando o Labirinto"
      ],
      "metadata": {
        "id": "aaoxtZl3YEFD"
      }
    },
    {
      "cell_type": "code",
      "source": [
        "def criarLabirinto(linhas, colunas):\n",
        "  # sempre tem que ser impar\n",
        "  # para conseguir fazer caminhos estreitos e sempre com parades de 1 # largura\n",
        "  if(linhas % 2 == 0):\n",
        "    linhas += 1\n",
        "  if(colunas % 2 == 0):\n",
        "    colunas += 1\n",
        "\n",
        "  # adiciona para ter uma \"moldura\"\n",
        "  linhas += 2\n",
        "  colunas += 2\n",
        "\n",
        "  labirinto = []\n",
        "\n",
        "  # Cria o labirinto e preenche todos os espaços com # - que serão as paredes\n",
        "  for i in range(linhas):\n",
        "    linha = []\n",
        "    for j in range(colunas):\n",
        "      linha.append('#')\n",
        "    labirinto.append(linha)\n",
        "\n",
        "  labirinto[0][1] = \"I\"  # Inicio\n",
        "  labirinto[linhas - 1][colunas - 2] = \"F\"  # Fim\n",
        "\n",
        "  return labirinto\n",
        "\n",
        "def printarLabirinto(labirinto):\n",
        "  for linha in labirinto:\n",
        "    print(''.join(linha))\n",
        "\n",
        "\n",
        "labirinto = criarLabirinto(30, 70) # Tamanho do labirinto, caso queira mudar\n",
        "print(\"\\nLabirinto Criado!\")"
      ],
      "metadata": {
        "colab": {
          "base_uri": "https://localhost:8080/"
        },
        "id": "WdPAhUZeYQTF",
        "outputId": "2b09e101-9137-4b44-f652-c2ee8e62aaac"
      },
      "execution_count": null,
      "outputs": [
        {
          "output_type": "stream",
          "name": "stdout",
          "text": [
            "\n",
            "Labirinto Criado!\n"
          ]
        }
      ]
    },
    {
      "cell_type": "markdown",
      "source": [
        "## 3. Cavando o Labirinto e Printando"
      ],
      "metadata": {
        "id": "6SRt7cpGYtr1"
      }
    },
    {
      "cell_type": "code",
      "source": [
        "def cavarCaminho(labirinto):\n",
        "  linhas = len(labirinto)\n",
        "  colunas = len(labirinto[0])\n",
        "\n",
        "  direcoes = [(1,0), (0,1), (-1,0), (0,-1)]  # Baixo, Direita, Cima, Esquerda\n",
        "\n",
        "  # LIFO\n",
        "  stack = [(1, 1)] # pilha com posição inicial - o primeiro espaço em branco\n",
        "\n",
        "  # se comporta como se comporta como uma busca por profundidade\n",
        "  # ela vai mais fundo possivel cavando, e quando chegar no fim, tenta outro caminho\n",
        "  while stack:\n",
        "      l, c = stack.pop() # remove o ultimo a entrar, e salva a sua coordenada (l, c)\n",
        "      labirinto[l][c] = ' '\n",
        "\n",
        "      random.shuffle(direcoes) # modifica a ordem dos elementos em direcoes, sorteando\n",
        "\n",
        "      for dl, dc in direcoes:\n",
        "          nl, nc = l + dl*2, c + dc*2 # 2 direcoes a frente\n",
        "          ml, mc = l + dl, c + dc     # meio (entre o atual e o proximo)\n",
        "\n",
        "          if 0 < nl < linhas-1 and 0 < nc < colunas-1:   # vendo se está fora das bordas\n",
        "              if labirinto[nl][nc] == '#':               # se não foi cavado ainda\n",
        "                  labirinto[ml][mc] = ' '                # cava o meio\n",
        "                  labirinto[nl][nc] = ' '                # cava o destino\n",
        "                  stack.append((nl, nc))                 # adiciona o novo ponto a pilha\n",
        "  return labirinto\n",
        "\n",
        "\n",
        "\n",
        "labirintoCavado = cavarCaminho(labirinto)\n",
        "printarLabirinto(labirintoCavado)\n",
        "print(\"\\nLabirinto cavado e mostrado!\")"
      ],
      "metadata": {
        "colab": {
          "base_uri": "https://localhost:8080/"
        },
        "id": "yncGrdcXYwJD",
        "outputId": "fe079ae0-9eec-4f6b-8e20-01a2c1a3d1ce"
      },
      "execution_count": null,
      "outputs": [
        {
          "output_type": "stream",
          "name": "stdout",
          "text": [
            "#I#######################################################################\n",
            "#   # #       #         #               #                   #         # #\n",
            "# ### # ### ### ########### # # # ### ##### # # ### ### ####### # ### # #\n",
            "#         #   #   # # # #   # # # #   # #   # # #     #   #     # #     #\n",
            "# # # # ### ### ### # # ### ######### # ### ####### ### ##### # ####### #\n",
            "# # # # #     # #             # # #             #   # # #     # #   #   #\n",
            "######### # ### ### # # # # ### # ### # # # ####### # ##### # ##### ### #\n",
            "# # #     # # #     # # # # # #     # # # # # # # #   # #   # #     #   #\n",
            "# # ### # ### ### # ######### ##### ######### # # ### # ### ####### ### #\n",
            "#   #   # # #     # # #         #   # #   # #       #   #       # # #   #\n",
            "### ### ### ##### ### # ### # ##### # # ### # ### ##### ### # ### # ### #\n",
            "#   #         # #         # #     #     # #     #     #   # #       # # #\n",
            "### ### # # ### ##### # ##### # ##### ### # ##### # ##### ### ####### # #\n",
            "#     # # #       # # # #   # #     # #       # # #   #         # # #   #\n",
            "##### ##### # # ### ####### ### # ### ### ##### ### ############# # # ###\n",
            "# # # # # # # #       #         #     # #   # # #       # # # #         #\n",
            "# # # # # ##### # # ####### # # ####### # ### # ### # ### # # ### ##### #\n",
            "#           # # # #     # # # # # # # #     #     # #   #       # # # # #\n",
            "# ### # # ### ##### # ### ### ### # # # ##### ### ### ### ### ### # # ###\n",
            "#   # # #         # #       # # #         # #   # #         #   #       #\n",
            "# ####### ########### # # ##### # ### # ### # ### ### # # ### ### ### ###\n",
            "# # # #     # # #   # # #   #       # # #       #   # # # #     # # #   #\n",
            "# # # ### ### # # ####### ##### ######### ### ############### ##### # ###\n",
            "#       # #       # # #     #   # #         # # # # #   # #     #       #\n",
            "# ### ### ### ### # # ### ##### # ### ### ##### # # # ### ### ##### ### #\n",
            "# #   # # #   #             #       #   #   #         #         # #   # #\n",
            "# ### # ##### ### # # # # ### ### ### ##### ### # ### ### # # ### # ### #\n",
            "# #     # #     # # # # # #   # #   # # # # #   # #   #   # # #       # #\n",
            "# ##### # ### # ############### # ### # # ##### ##### ### ####### ##### #\n",
            "#   #     # # #             # #     #     #       #   #     # # #   #   #\n",
            "# # ##### # ### # # # # # ### # ##### ### ### # ##### ### ### # # ##### #\n",
            "# #   #         # # # # #         #   #       #   #                 #   #\n",
            "#######################################################################F#\n",
            "\n",
            "Labirinto cavado e mostrado!\n"
          ]
        }
      ]
    },
    {
      "cell_type": "markdown",
      "source": [
        "## 4. Buscando o Caminho em Largura\n",
        "*Fazendo a busca **com delay** para melhor visualização do processo.*\n"
      ],
      "metadata": {
        "id": "FZc9SyInZfFz"
      }
    },
    {
      "cell_type": "code",
      "source": [
        "lab1 = [linha[:] for linha in labirintoCavado] # Atribui todo o valor de labirintoCavado em uma cópia 'lab1'\n",
        "\n",
        "def buscarCaminhoLargura(labirinto):\n",
        "  linhas = len(labirinto)\n",
        "  colunas = len(labirinto[0])\n",
        "\n",
        "  direcoes = [(1,0), (0,1), (-1,0), (0,-1)]  # Baixo, Direita, Cima, Esquerda\n",
        "\n",
        "  inicio = (1, 1)\n",
        "  fim = (linhas - 2, colunas - 2)\n",
        "\n",
        "  visitados = set() # conjunto de posições visitadas\n",
        "  prox_veio_de = {}\n",
        "  # FIFO\n",
        "  fila = deque()      # cria uma fila\n",
        "  fila.append((1, 1)) # Na frente do I, o primeiro - adiciona na fila\n",
        "\n",
        "  visitados.add((1, 1)) # marca o primeiro como visitado\n",
        "  print(fila)\n",
        "\n",
        "  # busca cega por lagura, explora todo o nivel n, depois vai para o nivel n+1\n",
        "  while fila:\n",
        "    #print(\"Fila:\", list(fila))\n",
        "    item = fila.popleft() # remove o primeiro da fila e salva em item, pois já foi visitado\n",
        "\n",
        "    # Marca posição atual no labirinto\n",
        "    if labirinto[item[0]][item[1]] == ' ':\n",
        "        labirinto[item[0]][item[1]] = '.'\n",
        "\n",
        "    clear_output(wait=True)\n",
        "    printarLabirinto(labirinto)\n",
        "    time.sleep(0.05)\n",
        "\n",
        "    if item == (linhas - 2, colunas - 2):\n",
        "      print(\"achou\")\n",
        "      break\n",
        "\n",
        "    for dx, dy in direcoes:\n",
        "        nx, ny = item[0] + dx, item[1] + dy # descobrir um vizinho\n",
        "\n",
        "        if 0 < nx < linhas and 0 < ny < colunas: # vendo se está fora das bordas\n",
        "          if labirinto[nx][ny] == ' ' and (nx, ny) not in visitados: # verifica se não é parede, e se vistado\n",
        "            visitados.add((nx, ny))\n",
        "            fila.append((nx, ny))\n",
        "\n",
        "            prox_veio_de[(nx, ny)] = (item[0], item[1])  # salva o caminho para poder voltar depois\n",
        "\n",
        "\n",
        "  atual = fim\n",
        "  while atual != inicio:\n",
        "      l, c = atual\n",
        "      labirinto[l][c] = VERDE + '*' + RESET  # Marca o caminho com cor verde\n",
        "      atual = prox_veio_de[atual]\n",
        "      clear_output(wait=True)\n",
        "      printarLabirinto(labirinto)\n",
        "\n",
        "\n",
        "  labirinto[1][1] = VERDE + '*' + RESET  # Marca o caminho com cor verde\n",
        "  clear_output(wait=True)\n",
        "  printarLabirinto(labirinto)\n",
        "  print(\"\\nCaminho encontrado!\")\n",
        "\n",
        "\n",
        "buscarCaminhoLargura(lab1)"
      ],
      "metadata": {
        "colab": {
          "base_uri": "https://localhost:8080/"
        },
        "id": "5eo-B7hoZfeM",
        "outputId": "9e0c584c-98ab-48e0-8238-6e9eacf3fe15"
      },
      "execution_count": null,
      "outputs": [
        {
          "output_type": "stream",
          "name": "stdout",
          "text": [
            "#I#######################################################################\n",
            "#\u001b[32m*\u001b[39m..#.#\u001b[32m*\u001b[39m\u001b[32m*\u001b[39m\u001b[32m*\u001b[39m\u001b[32m*\u001b[39m\u001b[32m*\u001b[39m..#         #               #                   #         # #\n",
            "#\u001b[32m*\u001b[39m###.#\u001b[32m*\u001b[39m###\u001b[32m*\u001b[39m### ########### # # # ### ##### # # ### ### ####### # ### # #\n",
            "#\u001b[32m*\u001b[39m\u001b[32m*\u001b[39m\u001b[32m*\u001b[39m\u001b[32m*\u001b[39m\u001b[32m*\u001b[39m\u001b[32m*\u001b[39m\u001b[32m*\u001b[39m..#\u001b[32m*\u001b[39m..#   # # # #   # # # #   # #   # # #     #   #     # #     #\n",
            "#.#.#.#.###\u001b[32m*\u001b[39m### ### # # ### ######### # ### ####### ### ##### # ####### #\n",
            "#.#.#.#.#\u001b[32m*\u001b[39m\u001b[32m*\u001b[39m\u001b[32m*\u001b[39m..# #             # # #             #   # # #     # #   #   #\n",
            "#########\u001b[32m*\u001b[39m#.### ### # # # # ### # ### # # # ####### # ##### # ##### ### #\n",
            "#.#.#..\u001b[32m*\u001b[39m\u001b[32m*\u001b[39m\u001b[32m*\u001b[39m#.# #     # # # # # #     # # # # #.#.#.#   # #   # #     #   #\n",
            "#.#.###\u001b[32m*\u001b[39m#.### ### # ######### ##### #########.#.#.### # ### ####### ### #\n",
            "#...#..\u001b[32m*\u001b[39m#.#.#     # # #         #   # #   #.#\u001b[32m*\u001b[39m\u001b[32m*\u001b[39m\u001b[32m*\u001b[39m\u001b[32m*\u001b[39m\u001b[32m*\u001b[39m..#   #       # # #   #\n",
            "###.###\u001b[32m*\u001b[39m###.##### ### # ### # ##### # # ###.#\u001b[32m*\u001b[39m###\u001b[32m*\u001b[39m##### ### # ### # ### #\n",
            "#...#..\u001b[32m*\u001b[39m\u001b[32m*\u001b[39m\u001b[32m*\u001b[39m\u001b[32m*\u001b[39m\u001b[32m*\u001b[39m..#.#         # #     #     #.#\u001b[32m*\u001b[39m\u001b[32m*\u001b[39m\u001b[32m*\u001b[39m..#\u001b[32m*\u001b[39m\u001b[32m*\u001b[39m\u001b[32m*\u001b[39m..#   # #       # # #\n",
            "###.###.#.#\u001b[32m*\u001b[39m###.##### # ##### # ##### ###.#\u001b[32m*\u001b[39m#####.#\u001b[32m*\u001b[39m##### ### ####### # #\n",
            "#.....#.#.#\u001b[32m*\u001b[39m\u001b[32m*\u001b[39m\u001b[32m*\u001b[39m\u001b[32m*\u001b[39m\u001b[32m*\u001b[39m..#.# # #   # #     # #..\u001b[32m*\u001b[39m\u001b[32m*\u001b[39m\u001b[32m*\u001b[39m..# #.#\u001b[32m*\u001b[39m..#         # # #   #\n",
            "#####.#####.#.#\u001b[32m*\u001b[39m###.####### ### # ### ###\u001b[32m*\u001b[39m##### ###\u001b[32m*\u001b[39m############# # # ###\n",
            "#.#.#.#.#.#.#.#\u001b[32m*\u001b[39m\u001b[32m*\u001b[39m\u001b[32m*\u001b[39m\u001b[32m*\u001b[39m\u001b[32m*\u001b[39m..#         #     #.#\u001b[32m*\u001b[39m..# # #..\u001b[32m*\u001b[39m\u001b[32m*\u001b[39m\u001b[32m*\u001b[39m..#.#.#.#         #\n",
            "#.#.#.#.#.#####.#.#\u001b[32m*\u001b[39m####### # # #######.#\u001b[32m*\u001b[39m### # ###.#\u001b[32m*\u001b[39m###.#.#.### ##### #\n",
            "#...........#.#.#.#\u001b[32m*\u001b[39m\u001b[32m*\u001b[39m\u001b[32m*\u001b[39m..#.# # # #.#.#.#\u001b[32m*\u001b[39m\u001b[32m*\u001b[39m\u001b[32m*\u001b[39m..#     #.#\u001b[32m*\u001b[39m..#\u001b[32m*\u001b[39m\u001b[32m*\u001b[39m\u001b[32m*\u001b[39m\u001b[32m*\u001b[39m\u001b[32m*\u001b[39m..# #.#.# #\n",
            "#.###.#.#.###.#####.#\u001b[32m*\u001b[39m###.### ###.#.#.#\u001b[32m*\u001b[39m##### ### ###\u001b[32m*\u001b[39m###\u001b[32m*\u001b[39m###\u001b[32m*\u001b[39m###.#.#.###\n",
            "#...#.#.#.........#.#\u001b[32m*\u001b[39m\u001b[32m*\u001b[39m\u001b[32m*\u001b[39m\u001b[32m*\u001b[39m\u001b[32m*\u001b[39m..# #.#\u001b[32m*\u001b[39m\u001b[32m*\u001b[39m\u001b[32m*\u001b[39m\u001b[32m*\u001b[39m\u001b[32m*\u001b[39m\u001b[32m*\u001b[39m\u001b[32m*\u001b[39m..# #   # #..\u001b[32m*\u001b[39m\u001b[32m*\u001b[39m\u001b[32m*\u001b[39m\u001b[32m*\u001b[39m\u001b[32m*\u001b[39m..#\u001b[32m*\u001b[39m..#.......#\n",
            "#.#######.###########.#.#\u001b[32m*\u001b[39m#####.#\u001b[32m*\u001b[39m###.#.### # ### ###.#.#.###\u001b[32m*\u001b[39m###.###.###\n",
            "#.#.#.#.....#.#.#...#.#.#\u001b[32m*\u001b[39m..#..\u001b[32m*\u001b[39m\u001b[32m*\u001b[39m\u001b[32m*\u001b[39m..#.#.#       #   #.#.#.#..\u001b[32m*\u001b[39m..# #.#...#\n",
            "#.#.#.###.###.#.#.#######\u001b[32m*\u001b[39m#####\u001b[32m*\u001b[39m######### ### ###############\u001b[32m*\u001b[39m#####.#.###\n",
            "#.......#.#..\u001b[32m*\u001b[39m\u001b[32m*\u001b[39m\u001b[32m*\u001b[39m\u001b[32m*\u001b[39m\u001b[32m*\u001b[39m#.#.#..\u001b[32m*\u001b[39m..#..\u001b[32m*\u001b[39m#.#         # #.#.#.#...#.#..\u001b[32m*\u001b[39m..#..\u001b[32m*\u001b[39m\u001b[32m*\u001b[39m\u001b[32m*\u001b[39m\u001b[32m*\u001b[39m\u001b[32m*\u001b[39m#\n",
            "#.###.###.###\u001b[32m*\u001b[39m###\u001b[32m*\u001b[39m#.#.###\u001b[32m*\u001b[39m#####\u001b[32m*\u001b[39m#.### ### #####.#.#.#.###.###\u001b[32m*\u001b[39m#####\u001b[32m*\u001b[39m###\u001b[32m*\u001b[39m#\n",
            "#.#...#.#.#..\u001b[32m*\u001b[39m#..\u001b[32m*\u001b[39m\u001b[32m*\u001b[39m\u001b[32m*\u001b[39m\u001b[32m*\u001b[39m\u001b[32m*\u001b[39m\u001b[32m*\u001b[39m\u001b[32m*\u001b[39m\u001b[32m*\u001b[39m\u001b[32m*\u001b[39m..#..\u001b[32m*\u001b[39m\u001b[32m*\u001b[39m\u001b[32m*\u001b[39m..#   #   #.........#..\u001b[32m*\u001b[39m\u001b[32m*\u001b[39m\u001b[32m*\u001b[39m\u001b[32m*\u001b[39m\u001b[32m*\u001b[39m..#.#\u001b[32m*\u001b[39m..#\u001b[32m*\u001b[39m#\n",
            "#.###.#.#####\u001b[32m*\u001b[39m###.#.#.#.#.###.###\u001b[32m*\u001b[39m### ##### ###.#.###.###\u001b[32m*\u001b[39m#.#.###.#\u001b[32m*\u001b[39m###\u001b[32m*\u001b[39m#\n",
            "#.#.....#.#..\u001b[32m*\u001b[39m\u001b[32m*\u001b[39m\u001b[32m*\u001b[39m#.#.#.#.#.#...#.#\u001b[32m*\u001b[39m..# # # # #...#.#...#..\u001b[32m*\u001b[39m#.#.#..\u001b[32m*\u001b[39m\u001b[32m*\u001b[39m\u001b[32m*\u001b[39m..#\u001b[32m*\u001b[39m#\n",
            "#.#####.#.###.#\u001b[32m*\u001b[39m###############.#\u001b[32m*\u001b[39m### # # #####.#####.###\u001b[32m*\u001b[39m#######\u001b[32m*\u001b[39m#####\u001b[32m*\u001b[39m#\n",
            "#...#.....#.#.#\u001b[32m*\u001b[39m\u001b[32m*\u001b[39m\u001b[32m*\u001b[39m\u001b[32m*\u001b[39m\u001b[32m*\u001b[39m\u001b[32m*\u001b[39m\u001b[32m*\u001b[39m\u001b[32m*\u001b[39m\u001b[32m*\u001b[39m\u001b[32m*\u001b[39m\u001b[32m*\u001b[39m..#.#\u001b[32m*\u001b[39m\u001b[32m*\u001b[39m\u001b[32m*\u001b[39m..#     #.......#...#..\u001b[32m*\u001b[39m..#.#.#\u001b[32m*\u001b[39m..# .\u001b[32m*\u001b[39m#\n",
            "#.#.#####.#.###.#.#.#.#.#\u001b[32m*\u001b[39m###.#\u001b[32m*\u001b[39m##### ###.###.#.#####.###\u001b[32m*\u001b[39m###.#.#\u001b[32m*\u001b[39m#####\u001b[32m*\u001b[39m#\n",
            "#.#...#.........#.#.#.#.#\u001b[32m*\u001b[39m\u001b[32m*\u001b[39m\u001b[32m*\u001b[39m\u001b[32m*\u001b[39m\u001b[32m*\u001b[39m\u001b[32m*\u001b[39m\u001b[32m*\u001b[39m..#   # ......#...#......\u001b[32m*\u001b[39m\u001b[32m*\u001b[39m\u001b[32m*\u001b[39m\u001b[32m*\u001b[39m\u001b[32m*\u001b[39m\u001b[32m*\u001b[39m\u001b[32m*\u001b[39m\u001b[32m*\u001b[39m\u001b[32m*\u001b[39m..#  \u001b[32m*\u001b[39m#\n",
            "#######################################################################F#\n",
            "\n",
            "Caminho encontrado!\n"
          ]
        }
      ]
    },
    {
      "cell_type": "markdown",
      "source": [
        "## 5. Buscando em Largura sem Delay\n",
        "\n",
        "*Fazendo a busca **sem delay** para testar a eficiência do algoritmo.*"
      ],
      "metadata": {
        "id": "fkCnqVSrbNAb"
      }
    },
    {
      "cell_type": "code",
      "execution_count": null,
      "metadata": {
        "colab": {
          "base_uri": "https://localhost:8080/"
        },
        "id": "x7nRBve7bQOK",
        "outputId": "8e68d28f-7c3f-4772-8450-1adba42a8f89"
      },
      "outputs": [
        {
          "output_type": "stream",
          "name": "stdout",
          "text": [
            "#I#######################################################################\n",
            "#\u001b[32m*\u001b[39m..#.#\u001b[32m*\u001b[39m\u001b[32m*\u001b[39m\u001b[32m*\u001b[39m\u001b[32m*\u001b[39m\u001b[32m*\u001b[39m..#         #               #                   #         # #\n",
            "#\u001b[32m*\u001b[39m###.#\u001b[32m*\u001b[39m###\u001b[32m*\u001b[39m### ########### # # # ### ##### # # ### ### ####### # ### # #\n",
            "#\u001b[32m*\u001b[39m\u001b[32m*\u001b[39m\u001b[32m*\u001b[39m\u001b[32m*\u001b[39m\u001b[32m*\u001b[39m\u001b[32m*\u001b[39m\u001b[32m*\u001b[39m..#\u001b[32m*\u001b[39m..#   # # # #   # # # #   # #   # # #     #   #     # #     #\n",
            "#.#.#.#.###\u001b[32m*\u001b[39m### ### # # ### ######### # ### ####### ### ##### # ####### #\n",
            "#.#.#.#.#\u001b[32m*\u001b[39m\u001b[32m*\u001b[39m\u001b[32m*\u001b[39m..# #             # # #             #   # # #     # #   #   #\n",
            "#########\u001b[32m*\u001b[39m#.### ### # # # # ### # ### # # # ####### # ##### # ##### ### #\n",
            "#.#.#..\u001b[32m*\u001b[39m\u001b[32m*\u001b[39m\u001b[32m*\u001b[39m#.# #     # # # # # #     # # # # #.#.#.#   # #   # #     #   #\n",
            "#.#.###\u001b[32m*\u001b[39m#.### ### # ######### ##### #########.#.#.### # ### ####### ### #\n",
            "#...#..\u001b[32m*\u001b[39m#.#.#     # # #         #   # #   #.#\u001b[32m*\u001b[39m\u001b[32m*\u001b[39m\u001b[32m*\u001b[39m\u001b[32m*\u001b[39m\u001b[32m*\u001b[39m..#   #       # # #   #\n",
            "###.###\u001b[32m*\u001b[39m###.##### ### # ### # ##### # # ###.#\u001b[32m*\u001b[39m###\u001b[32m*\u001b[39m##### ### # ### # ### #\n",
            "#...#..\u001b[32m*\u001b[39m\u001b[32m*\u001b[39m\u001b[32m*\u001b[39m\u001b[32m*\u001b[39m\u001b[32m*\u001b[39m..#.#         # #     #     #.#\u001b[32m*\u001b[39m\u001b[32m*\u001b[39m\u001b[32m*\u001b[39m..#\u001b[32m*\u001b[39m\u001b[32m*\u001b[39m\u001b[32m*\u001b[39m..#   # #       # # #\n",
            "###.###.#.#\u001b[32m*\u001b[39m###.##### # ##### # ##### ###.#\u001b[32m*\u001b[39m#####.#\u001b[32m*\u001b[39m##### ### ####### # #\n",
            "#.....#.#.#\u001b[32m*\u001b[39m\u001b[32m*\u001b[39m\u001b[32m*\u001b[39m\u001b[32m*\u001b[39m\u001b[32m*\u001b[39m..#.# # #   # #     # #..\u001b[32m*\u001b[39m\u001b[32m*\u001b[39m\u001b[32m*\u001b[39m..# #.#\u001b[32m*\u001b[39m..#         # # #   #\n",
            "#####.#####.#.#\u001b[32m*\u001b[39m###.####### ### # ### ###\u001b[32m*\u001b[39m##### ###\u001b[32m*\u001b[39m############# # # ###\n",
            "#.#.#.#.#.#.#.#\u001b[32m*\u001b[39m\u001b[32m*\u001b[39m\u001b[32m*\u001b[39m\u001b[32m*\u001b[39m\u001b[32m*\u001b[39m..#         #     #.#\u001b[32m*\u001b[39m..# # #..\u001b[32m*\u001b[39m\u001b[32m*\u001b[39m\u001b[32m*\u001b[39m..#.#.#.#         #\n",
            "#.#.#.#.#.#####.#.#\u001b[32m*\u001b[39m####### # # #######.#\u001b[32m*\u001b[39m### # ###.#\u001b[32m*\u001b[39m###.#.#.### ##### #\n",
            "#...........#.#.#.#\u001b[32m*\u001b[39m\u001b[32m*\u001b[39m\u001b[32m*\u001b[39m..#.# # # #.#.#.#\u001b[32m*\u001b[39m\u001b[32m*\u001b[39m\u001b[32m*\u001b[39m..#     #.#\u001b[32m*\u001b[39m..#\u001b[32m*\u001b[39m\u001b[32m*\u001b[39m\u001b[32m*\u001b[39m\u001b[32m*\u001b[39m\u001b[32m*\u001b[39m..# #.#.# #\n",
            "#.###.#.#.###.#####.#\u001b[32m*\u001b[39m###.### ###.#.#.#\u001b[32m*\u001b[39m##### ### ###\u001b[32m*\u001b[39m###\u001b[32m*\u001b[39m###\u001b[32m*\u001b[39m###.#.#.###\n",
            "#...#.#.#.........#.#\u001b[32m*\u001b[39m\u001b[32m*\u001b[39m\u001b[32m*\u001b[39m\u001b[32m*\u001b[39m\u001b[32m*\u001b[39m..# #.#\u001b[32m*\u001b[39m\u001b[32m*\u001b[39m\u001b[32m*\u001b[39m\u001b[32m*\u001b[39m\u001b[32m*\u001b[39m\u001b[32m*\u001b[39m\u001b[32m*\u001b[39m..# #   # #..\u001b[32m*\u001b[39m\u001b[32m*\u001b[39m\u001b[32m*\u001b[39m\u001b[32m*\u001b[39m\u001b[32m*\u001b[39m..#\u001b[32m*\u001b[39m..#.......#\n",
            "#.#######.###########.#.#\u001b[32m*\u001b[39m#####.#\u001b[32m*\u001b[39m###.#.### # ### ###.#.#.###\u001b[32m*\u001b[39m###.###.###\n",
            "#.#.#.#.....#.#.#...#.#.#\u001b[32m*\u001b[39m..#..\u001b[32m*\u001b[39m\u001b[32m*\u001b[39m\u001b[32m*\u001b[39m..#.#.#       #   #.#.#.#..\u001b[32m*\u001b[39m..# #.#...#\n",
            "#.#.#.###.###.#.#.#######\u001b[32m*\u001b[39m#####\u001b[32m*\u001b[39m######### ### ###############\u001b[32m*\u001b[39m#####.#.###\n",
            "#.......#.#..\u001b[32m*\u001b[39m\u001b[32m*\u001b[39m\u001b[32m*\u001b[39m\u001b[32m*\u001b[39m\u001b[32m*\u001b[39m#.#.#..\u001b[32m*\u001b[39m..#..\u001b[32m*\u001b[39m#.#         # #.#.#.#...#.#..\u001b[32m*\u001b[39m..#..\u001b[32m*\u001b[39m\u001b[32m*\u001b[39m\u001b[32m*\u001b[39m\u001b[32m*\u001b[39m\u001b[32m*\u001b[39m#\n",
            "#.###.###.###\u001b[32m*\u001b[39m###\u001b[32m*\u001b[39m#.#.###\u001b[32m*\u001b[39m#####\u001b[32m*\u001b[39m#.### ### #####.#.#.#.###.###\u001b[32m*\u001b[39m#####\u001b[32m*\u001b[39m###\u001b[32m*\u001b[39m#\n",
            "#.#...#.#.#..\u001b[32m*\u001b[39m#..\u001b[32m*\u001b[39m\u001b[32m*\u001b[39m\u001b[32m*\u001b[39m\u001b[32m*\u001b[39m\u001b[32m*\u001b[39m\u001b[32m*\u001b[39m\u001b[32m*\u001b[39m\u001b[32m*\u001b[39m\u001b[32m*\u001b[39m..#..\u001b[32m*\u001b[39m\u001b[32m*\u001b[39m\u001b[32m*\u001b[39m..#   #   #.........#..\u001b[32m*\u001b[39m\u001b[32m*\u001b[39m\u001b[32m*\u001b[39m\u001b[32m*\u001b[39m\u001b[32m*\u001b[39m..#.#\u001b[32m*\u001b[39m..#\u001b[32m*\u001b[39m#\n",
            "#.###.#.#####\u001b[32m*\u001b[39m###.#.#.#.#.###.###\u001b[32m*\u001b[39m### ##### ###.#.###.###\u001b[32m*\u001b[39m#.#.###.#\u001b[32m*\u001b[39m###\u001b[32m*\u001b[39m#\n",
            "#.#.....#.#..\u001b[32m*\u001b[39m\u001b[32m*\u001b[39m\u001b[32m*\u001b[39m#.#.#.#.#.#...#.#\u001b[32m*\u001b[39m..# # # # #...#.#...#..\u001b[32m*\u001b[39m#.#.#..\u001b[32m*\u001b[39m\u001b[32m*\u001b[39m\u001b[32m*\u001b[39m..#\u001b[32m*\u001b[39m#\n",
            "#.#####.#.###.#\u001b[32m*\u001b[39m###############.#\u001b[32m*\u001b[39m### # # #####.#####.###\u001b[32m*\u001b[39m#######\u001b[32m*\u001b[39m#####\u001b[32m*\u001b[39m#\n",
            "#...#.....#.#.#\u001b[32m*\u001b[39m\u001b[32m*\u001b[39m\u001b[32m*\u001b[39m\u001b[32m*\u001b[39m\u001b[32m*\u001b[39m\u001b[32m*\u001b[39m\u001b[32m*\u001b[39m\u001b[32m*\u001b[39m\u001b[32m*\u001b[39m\u001b[32m*\u001b[39m\u001b[32m*\u001b[39m..#.#\u001b[32m*\u001b[39m\u001b[32m*\u001b[39m\u001b[32m*\u001b[39m..#     #.......#...#..\u001b[32m*\u001b[39m..#.#.#\u001b[32m*\u001b[39m..# .\u001b[32m*\u001b[39m#\n",
            "#.#.#####.#.###.#.#.#.#.#\u001b[32m*\u001b[39m###.#\u001b[32m*\u001b[39m##### ###.###.#.#####.###\u001b[32m*\u001b[39m###.#.#\u001b[32m*\u001b[39m#####\u001b[32m*\u001b[39m#\n",
            "#.#...#.........#.#.#.#.#\u001b[32m*\u001b[39m\u001b[32m*\u001b[39m\u001b[32m*\u001b[39m\u001b[32m*\u001b[39m\u001b[32m*\u001b[39m\u001b[32m*\u001b[39m\u001b[32m*\u001b[39m..#   # ......#...#......\u001b[32m*\u001b[39m\u001b[32m*\u001b[39m\u001b[32m*\u001b[39m\u001b[32m*\u001b[39m\u001b[32m*\u001b[39m\u001b[32m*\u001b[39m\u001b[32m*\u001b[39m\u001b[32m*\u001b[39m\u001b[32m*\u001b[39m..#  \u001b[32m*\u001b[39m#\n",
            "#######################################################################F#\n",
            "\n",
            "Caminho encontrado com a maior eficiência!\n"
          ]
        }
      ],
      "source": [
        "lab2 = [linha[:] for linha in labirintoCavado] # Atribui todo o valor de labirintoCavado em uma cópia 'lab2'\n",
        "\n",
        "def buscarCaminhoLargura(labirinto):\n",
        "  linhas = len(labirinto)\n",
        "  colunas = len(labirinto[0])\n",
        "\n",
        "  direcoes = [(1,0), (0,1), (-1,0), (0,-1)]  # Baixo, Direita, Cima, Esquerda\n",
        "\n",
        "  inicio = (1, 1)\n",
        "  fim = (linhas - 2, colunas - 2)\n",
        "\n",
        "  visitados = set() # conjunto de posições visitadas\n",
        "  prox_veio_de = {}\n",
        "  # FIFO\n",
        "  fila = deque()      # cria uma fila\n",
        "  fila.append((1, 1)) # Na frente do I, o primeiro - adiciona na fila\n",
        "\n",
        "  visitados.add((1, 1)) # marca o primeiro como visitado\n",
        "  print(fila)\n",
        "\n",
        "  # busca cega por lagura, explora todo o nivel n, depois vai para o nivel n+1\n",
        "  while fila:\n",
        "    #print(\"Fila:\", list(fila))\n",
        "    item = fila.popleft() # remove o primeiro da fila e salva em item, pois já foi visitado\n",
        "\n",
        "    # Marca posição atual no labirinto\n",
        "    if labirinto[item[0]][item[1]] == ' ':\n",
        "        labirinto[item[0]][item[1]] = '.'\n",
        "\n",
        "    clear_output(wait=True)\n",
        "    printarLabirinto(labirinto)\n",
        "\n",
        "    if item == (linhas - 2, colunas - 2):\n",
        "      print(\"achou\")\n",
        "      break\n",
        "\n",
        "    for dx, dy in direcoes:\n",
        "        nx, ny = item[0] + dx, item[1] + dy # descobrir um vizinho\n",
        "\n",
        "        if 0 < nx < linhas and 0 < ny < colunas: # vendo se está fora das bordas\n",
        "          if labirinto[nx][ny] == ' ' and (nx, ny) not in visitados: # verifica se não é parede, e se vistado\n",
        "            visitados.add((nx, ny))\n",
        "            fila.append((nx, ny))\n",
        "\n",
        "            prox_veio_de[(nx, ny)] = (item[0], item[1])  # salva o caminho para poder voltar depois\n",
        "\n",
        "\n",
        "  atual = fim\n",
        "  while atual != inicio:\n",
        "      l, c = atual\n",
        "      labirinto[l][c] = VERDE + '*' + RESET  # Marca o caminho com cor verde\n",
        "      atual = prox_veio_de[atual]\n",
        "      clear_output(wait=True)\n",
        "      printarLabirinto(labirinto)\n",
        "\n",
        "\n",
        "  labirinto[1][1] = VERDE + '*' + RESET  # Marca o caminho com cor verde\n",
        "  clear_output(wait=True)\n",
        "  printarLabirinto(labirinto)\n",
        "  print(\"\\nCaminho encontrado com a maior eficiência!\")\n",
        "\n",
        "buscarCaminhoLargura(lab2)"
      ]
    }
  ]
}